{
 "cells": [
  {
   "cell_type": "markdown",
   "id": "c7c15bb6",
   "metadata": {},
   "source": [
    "# We have been asked to use our hypothesis testing skills to answer the following questions:\n",
    "\n",
    "- Q1. Do smokers have higher insurance charges than non-smokers?\n",
    "- Q2. Are men more likely to smoke than women?\n",
    "- Q3. Do different regions have different charges, on average?\n",
    "\n",
    "For each question, make sure to:\n",
    "\n",
    "- State your Null Hypothesis and Alternative Hypothesis\n",
    "- Select the correct test according to the data type and number of samples\n",
    "- Test the assumptions of your selected test.\n",
    "- Execute the selected test, or the alternative test (if you do not meet the assumptions)\n",
    "- Interpret your p-value and reject or fail to reject your null hypothesis \n",
    "- Show a supporting visualization that helps display the result\n"
   ]
  },
  {
   "cell_type": "code",
   "execution_count": 1,
   "id": "ece7b259",
   "metadata": {},
   "outputs": [],
   "source": [
    "# Imports\n",
    "import pandas as pd\n",
    "import numpy as np\n",
    "import matplotlib.pyplot as plt\n",
    "import seaborn as sns\n",
    "import scipy.stats as stats"
   ]
  },
  {
   "cell_type": "code",
   "execution_count": 2,
   "id": "14dd1777",
   "metadata": {},
   "outputs": [
    {
     "data": {
      "text/html": [
       "<div>\n",
       "<style scoped>\n",
       "    .dataframe tbody tr th:only-of-type {\n",
       "        vertical-align: middle;\n",
       "    }\n",
       "\n",
       "    .dataframe tbody tr th {\n",
       "        vertical-align: top;\n",
       "    }\n",
       "\n",
       "    .dataframe thead th {\n",
       "        text-align: right;\n",
       "    }\n",
       "</style>\n",
       "<table border=\"1\" class=\"dataframe\">\n",
       "  <thead>\n",
       "    <tr style=\"text-align: right;\">\n",
       "      <th></th>\n",
       "      <th>age</th>\n",
       "      <th>sex</th>\n",
       "      <th>bmi</th>\n",
       "      <th>children</th>\n",
       "      <th>smoker</th>\n",
       "      <th>region</th>\n",
       "      <th>charges</th>\n",
       "    </tr>\n",
       "  </thead>\n",
       "  <tbody>\n",
       "    <tr>\n",
       "      <th>0</th>\n",
       "      <td>19</td>\n",
       "      <td>female</td>\n",
       "      <td>27.900</td>\n",
       "      <td>0</td>\n",
       "      <td>yes</td>\n",
       "      <td>southwest</td>\n",
       "      <td>16884.92400</td>\n",
       "    </tr>\n",
       "    <tr>\n",
       "      <th>1</th>\n",
       "      <td>18</td>\n",
       "      <td>male</td>\n",
       "      <td>33.770</td>\n",
       "      <td>1</td>\n",
       "      <td>no</td>\n",
       "      <td>southeast</td>\n",
       "      <td>1725.55230</td>\n",
       "    </tr>\n",
       "    <tr>\n",
       "      <th>2</th>\n",
       "      <td>28</td>\n",
       "      <td>male</td>\n",
       "      <td>33.000</td>\n",
       "      <td>3</td>\n",
       "      <td>no</td>\n",
       "      <td>southeast</td>\n",
       "      <td>4449.46200</td>\n",
       "    </tr>\n",
       "    <tr>\n",
       "      <th>3</th>\n",
       "      <td>33</td>\n",
       "      <td>male</td>\n",
       "      <td>22.705</td>\n",
       "      <td>0</td>\n",
       "      <td>no</td>\n",
       "      <td>northwest</td>\n",
       "      <td>21984.47061</td>\n",
       "    </tr>\n",
       "    <tr>\n",
       "      <th>4</th>\n",
       "      <td>32</td>\n",
       "      <td>male</td>\n",
       "      <td>28.880</td>\n",
       "      <td>0</td>\n",
       "      <td>no</td>\n",
       "      <td>northwest</td>\n",
       "      <td>3866.85520</td>\n",
       "    </tr>\n",
       "  </tbody>\n",
       "</table>\n",
       "</div>"
      ],
      "text/plain": [
       "   age     sex     bmi  children smoker     region      charges\n",
       "0   19  female  27.900         0    yes  southwest  16884.92400\n",
       "1   18    male  33.770         1     no  southeast   1725.55230\n",
       "2   28    male  33.000         3     no  southeast   4449.46200\n",
       "3   33    male  22.705         0     no  northwest  21984.47061\n",
       "4   32    male  28.880         0     no  northwest   3866.85520"
      ]
     },
     "execution_count": 2,
     "metadata": {},
     "output_type": "execute_result"
    }
   ],
   "source": [
    "insurance = pd.read_csv('https://docs.google.com/spreadsheets/d/e/2PACX-1vQBN8DPW2rdiRrY34eEM53HAzakNGSRrw4ogI-j8HyCUrbqTB_z4CeIn2IvjLF-w_6sOe5pIlypJGAA/pub?output=csv')\n",
    "df = insurance.copy()\n",
    "df.head()"
   ]
  },
  {
   "cell_type": "code",
   "execution_count": 3,
   "id": "f719558b",
   "metadata": {
    "scrolled": true
   },
   "outputs": [
    {
     "name": "stdout",
     "output_type": "stream",
     "text": [
      "<class 'pandas.core.frame.DataFrame'>\n",
      "RangeIndex: 1338 entries, 0 to 1337\n",
      "Data columns (total 7 columns):\n",
      " #   Column    Non-Null Count  Dtype  \n",
      "---  ------    --------------  -----  \n",
      " 0   age       1338 non-null   int64  \n",
      " 1   sex       1338 non-null   object \n",
      " 2   bmi       1338 non-null   float64\n",
      " 3   children  1338 non-null   int64  \n",
      " 4   smoker    1338 non-null   object \n",
      " 5   region    1338 non-null   object \n",
      " 6   charges   1338 non-null   float64\n",
      "dtypes: float64(2), int64(2), object(3)\n",
      "memory usage: 73.3+ KB\n"
     ]
    }
   ],
   "source": [
    "df.info()"
   ]
  },
  {
   "cell_type": "code",
   "execution_count": 4,
   "id": "e6b00506",
   "metadata": {},
   "outputs": [
    {
     "data": {
      "text/html": [
       "<div>\n",
       "<style scoped>\n",
       "    .dataframe tbody tr th:only-of-type {\n",
       "        vertical-align: middle;\n",
       "    }\n",
       "\n",
       "    .dataframe tbody tr th {\n",
       "        vertical-align: top;\n",
       "    }\n",
       "\n",
       "    .dataframe thead th {\n",
       "        text-align: right;\n",
       "    }\n",
       "</style>\n",
       "<table border=\"1\" class=\"dataframe\">\n",
       "  <thead>\n",
       "    <tr style=\"text-align: right;\">\n",
       "      <th></th>\n",
       "      <th>age</th>\n",
       "      <th>bmi</th>\n",
       "      <th>children</th>\n",
       "      <th>charges</th>\n",
       "    </tr>\n",
       "  </thead>\n",
       "  <tbody>\n",
       "    <tr>\n",
       "      <th>count</th>\n",
       "      <td>1338.000000</td>\n",
       "      <td>1338.000000</td>\n",
       "      <td>1338.000000</td>\n",
       "      <td>1338.000000</td>\n",
       "    </tr>\n",
       "    <tr>\n",
       "      <th>mean</th>\n",
       "      <td>39.207025</td>\n",
       "      <td>30.663397</td>\n",
       "      <td>1.094918</td>\n",
       "      <td>13270.422265</td>\n",
       "    </tr>\n",
       "    <tr>\n",
       "      <th>std</th>\n",
       "      <td>14.049960</td>\n",
       "      <td>6.098187</td>\n",
       "      <td>1.205493</td>\n",
       "      <td>12110.011237</td>\n",
       "    </tr>\n",
       "    <tr>\n",
       "      <th>min</th>\n",
       "      <td>18.000000</td>\n",
       "      <td>15.960000</td>\n",
       "      <td>0.000000</td>\n",
       "      <td>1121.873900</td>\n",
       "    </tr>\n",
       "    <tr>\n",
       "      <th>25%</th>\n",
       "      <td>27.000000</td>\n",
       "      <td>26.296250</td>\n",
       "      <td>0.000000</td>\n",
       "      <td>4740.287150</td>\n",
       "    </tr>\n",
       "    <tr>\n",
       "      <th>50%</th>\n",
       "      <td>39.000000</td>\n",
       "      <td>30.400000</td>\n",
       "      <td>1.000000</td>\n",
       "      <td>9382.033000</td>\n",
       "    </tr>\n",
       "    <tr>\n",
       "      <th>75%</th>\n",
       "      <td>51.000000</td>\n",
       "      <td>34.693750</td>\n",
       "      <td>2.000000</td>\n",
       "      <td>16639.912515</td>\n",
       "    </tr>\n",
       "    <tr>\n",
       "      <th>max</th>\n",
       "      <td>64.000000</td>\n",
       "      <td>53.130000</td>\n",
       "      <td>5.000000</td>\n",
       "      <td>63770.428010</td>\n",
       "    </tr>\n",
       "  </tbody>\n",
       "</table>\n",
       "</div>"
      ],
      "text/plain": [
       "               age          bmi     children       charges\n",
       "count  1338.000000  1338.000000  1338.000000   1338.000000\n",
       "mean     39.207025    30.663397     1.094918  13270.422265\n",
       "std      14.049960     6.098187     1.205493  12110.011237\n",
       "min      18.000000    15.960000     0.000000   1121.873900\n",
       "25%      27.000000    26.296250     0.000000   4740.287150\n",
       "50%      39.000000    30.400000     1.000000   9382.033000\n",
       "75%      51.000000    34.693750     2.000000  16639.912515\n",
       "max      64.000000    53.130000     5.000000  63770.428010"
      ]
     },
     "execution_count": 4,
     "metadata": {},
     "output_type": "execute_result"
    }
   ],
   "source": [
    "df.describe()"
   ]
  },
  {
   "cell_type": "code",
   "execution_count": 5,
   "id": "0a35b4e3",
   "metadata": {},
   "outputs": [
    {
     "data": {
      "text/plain": [
       "1"
      ]
     },
     "execution_count": 5,
     "metadata": {},
     "output_type": "execute_result"
    }
   ],
   "source": [
    "df.duplicated().sum()"
   ]
  },
  {
   "cell_type": "code",
   "execution_count": 6,
   "id": "b47eca8a",
   "metadata": {},
   "outputs": [
    {
     "data": {
      "text/plain": [
       "0"
      ]
     },
     "execution_count": 6,
     "metadata": {},
     "output_type": "execute_result"
    }
   ],
   "source": [
    "df.drop_duplicates(inplace=True)\n",
    "df.duplicated().sum()"
   ]
  },
  {
   "cell_type": "markdown",
   "id": "42926ab6",
   "metadata": {},
   "source": [
    "## Q1. Do smokers have higher insurance charges than non-smokers?\n",
    "\n",
    "- Null Hypothesis:\n",
    "> Smokers do not have higher insurance charges than non-smokers\n",
    "\n",
    "- Alternative Hypothesis:\n",
    "> Smokers have higher insurance charges than non-smokers\n",
    "\n",
    "- Significance Level (Alpha) is 0.05"
   ]
  },
  {
   "cell_type": "code",
   "execution_count": 7,
   "id": "65cb1584",
   "metadata": {},
   "outputs": [
    {
     "data": {
      "image/png": "[encoded data removed]",
      "text/plain": [
       "<Figure size 500x500 with 1 Axes>"
      ]
     },
     "metadata": {},
     "output_type": "display_data"
    },
    {
     "data": {
      "text/plain": [
       "no     1063\n",
       "yes     274\n",
       "Name: smoker, dtype: int64"
      ]
     },
     "execution_count": 7,
     "metadata": {},
     "output_type": "execute_result"
    }
   ],
   "source": [
    "# Numerical data with 2 categories: smoker and non-smoker\n",
    "# This calls for 2 Sample T- Test\n",
    "\n",
    "sns.displot(data=df, x= 'smoker')\n",
    "plt.title('Smokers vs. Non-Smokers')\n",
    "plt.xticks(ticks=(0,1), labels=['Smoker', 'Non-Smoker'])\n",
    "plt.xlabel('Smoking Status')\n",
    "plt.show()\n",
    "df['smoker'].value_counts()"
   ]
  },
  {
   "cell_type": "markdown",
   "id": "512f529a",
   "metadata": {},
   "source": [
    "- Group sizes are greater than 15, I will forgo Normality Tests"
   ]
  },
  {
   "cell_type": "code",
   "execution_count": 8,
   "id": "da0c99d5",
   "metadata": {},
   "outputs": [],
   "source": [
    "# Creating smoker and non-smoker filters\n",
    "smoker = df.loc[df['smoker']== \"yes\"].copy()\n",
    "nsmoker = df.loc[df['smoker']== \"no\"].copy()\n",
    "\n",
    "# Defining features of interest\n",
    "smoker_charges = smoker['charges']\n",
    "nsmoker_charges = nsmoker['charges']"
   ]
  },
  {
   "cell_type": "markdown",
   "id": "989ee1a4",
   "metadata": {},
   "source": [
    "### Distribution Visualizations"
   ]
  },
  {
   "cell_type": "code",
   "execution_count": 9,
   "id": "ef2a72d7",
   "metadata": {},
   "outputs": [
    {
     "data": {
      "image/png": "[encoded data removed]",
      "text/plain": [
       "<Figure size 640x480 with 1 Axes>"
      ]
     },
     "metadata": {},
     "output_type": "display_data"
    }
   ],
   "source": [
    "sns.histplot(data=df,\n",
    "            x='charges',\n",
    "            hue='smoker')\n",
    "plt.title('Charges for Smokers vs. Non-Smoker')\n",
    "plt.xlabel('Charges ($USD)')\n",
    "plt.legend(title='Smoker', labels=['No', 'Yes'])\n",
    "plt.tight_layout()\n",
    "plt.show();"
   ]
  },
  {
   "cell_type": "code",
   "execution_count": 10,
   "id": "296fbca1",
   "metadata": {},
   "outputs": [
    {
     "data": {
      "image/png": "[encoded data removed]",
      "text/plain": [
       "<Figure size 640x480 with 1 Axes>"
      ]
     },
     "metadata": {},
     "output_type": "display_data"
    }
   ],
   "source": [
    "sns.barplot(data=df, y='charges', x='smoker')\n",
    "plt.xticks(ticks=(0,1), labels=['Smoker', 'Non-Smoker'])\n",
    "plt.title('Average Charges for Smokers vs. Non-Smokers')\n",
    "plt.xlabel('Smoking Status')\n",
    "plt.ylabel('Charges ($USD)');"
   ]
  },
  {
   "cell_type": "markdown",
   "id": "ecf9e696",
   "metadata": {},
   "source": [
    "### Checking for Outliers"
   ]
  },
  {
   "cell_type": "code",
   "execution_count": 11,
   "id": "9b126bad",
   "metadata": {},
   "outputs": [
    {
     "data": {
      "text/plain": [
       "0"
      ]
     },
     "execution_count": 11,
     "metadata": {},
     "output_type": "execute_result"
    }
   ],
   "source": [
    "# Checking for outliers in smoker charges\n",
    "zscores = stats.zscore(smoker_charges)\n",
    "outliers = abs(zscores)>3\n",
    "np.sum(outliers)"
   ]
  },
  {
   "cell_type": "code",
   "execution_count": 12,
   "id": "d34507ec",
   "metadata": {},
   "outputs": [
    {
     "data": {
      "text/plain": [
       "24"
      ]
     },
     "execution_count": 12,
     "metadata": {},
     "output_type": "execute_result"
    }
   ],
   "source": [
    "# Checking for outliers in non-smoker charges\n",
    "zscores= stats.zscore(nsmoker_charges)\n",
    "outliers = abs(zscores)>3\n",
    "np.sum(outliers)\n"
   ]
  },
  {
   "cell_type": "code",
   "execution_count": 13,
   "id": "e6dc05c6",
   "metadata": {},
   "outputs": [],
   "source": [
    "# Removing outliers in non-smoker charges\n",
    "nsmoker_charges = nsmoker_charges[(np.abs(stats.zscore(nsmoker_charges)) < 3)]"
   ]
  },
  {
   "cell_type": "markdown",
   "id": "a96debe8",
   "metadata": {},
   "source": [
    "### Checking for Equal Variance"
   ]
  },
  {
   "cell_type": "code",
   "execution_count": 14,
   "id": "5e149abf",
   "metadata": {},
   "outputs": [
    {
     "data": {
      "text/plain": [
       "LeveneResult(statistic=520.7178262969225, pvalue=2.512613039096279e-97)"
      ]
     },
     "execution_count": 14,
     "metadata": {},
     "output_type": "execute_result"
    }
   ],
   "source": [
    "results = stats.levene(smoker_charges, nsmoker_charges)\n",
    "results"
   ]
  },
  {
   "cell_type": "markdown",
   "id": "22a2f6c0",
   "metadata": {},
   "source": [
    "- Our p-value is less than 0.05, therefore we do not have equal variances"
   ]
  },
  {
   "cell_type": "markdown",
   "id": "26161398",
   "metadata": {},
   "source": [
    "### Evaluating the T-test"
   ]
  },
  {
   "cell_type": "code",
   "execution_count": 15,
   "id": "9ec4190f",
   "metadata": {},
   "outputs": [
    {
     "data": {
      "text/plain": [
       "Ttest_indResult(statistic=33.723466247187815, pvalue=2.7282718648018296e-104)"
      ]
     },
     "execution_count": 15,
     "metadata": {},
     "output_type": "execute_result"
    }
   ],
   "source": [
    "tresult = stats.ttest_ind(smoker_charges, nsmoker_charges, equal_var = False)\n",
    "tresult"
   ]
  },
  {
   "cell_type": "markdown",
   "id": "c12b1425",
   "metadata": {},
   "source": [
    "- The p-value is less than our significance level, therefore the null hypothesis can be rejected."
   ]
  },
  {
   "cell_type": "markdown",
   "id": "d24be8dc",
   "metadata": {},
   "source": [
    "## Q2. Are men more likely to smoke than women?\n",
    "\n",
    "- Null Hypothesis:\n",
    "> There is no significance in gender in likelihood of smoking.\n",
    "\n",
    "- Alternative Hypothesis:\n",
    "> Men are more likely to smoke than women.\n",
    "\n",
    "- Significance Level (Alpha) is 0.05"
   ]
  },
  {
   "cell_type": "code",
   "execution_count": 16,
   "id": "a46f8c4a",
   "metadata": {},
   "outputs": [
    {
     "data": {
      "image/png": "[encoded data removed]",
      "text/plain": [
       "<Figure size 640x480 with 1 Axes>"
      ]
     },
     "metadata": {},
     "output_type": "display_data"
    },
    {
     "data": {
      "text/plain": [
       "no     1063\n",
       "yes     274\n",
       "Name: smoker, dtype: int64"
      ]
     },
     "execution_count": 16,
     "metadata": {},
     "output_type": "execute_result"
    }
   ],
   "source": [
    "# Categorical data with 2 categories: men and women\n",
    "# This calls for Chi-Square\n",
    "\n",
    "sns.countplot(data=df, x= 'sex', hue='smoker')\n",
    "plt.title('Male and Female Smoking Status')\n",
    "plt.xticks(ticks=(0,1), labels=['Female','Male'])\n",
    "plt.xlabel('Sex')\n",
    "plt.show()\n",
    "df['smoker'].value_counts()"
   ]
  },
  {
   "cell_type": "code",
   "execution_count": 17,
   "id": "f924a0bb",
   "metadata": {},
   "outputs": [
    {
     "data": {
      "text/html": [
       "<div>\n",
       "<style scoped>\n",
       "    .dataframe tbody tr th:only-of-type {\n",
       "        vertical-align: middle;\n",
       "    }\n",
       "\n",
       "    .dataframe tbody tr th {\n",
       "        vertical-align: top;\n",
       "    }\n",
       "\n",
       "    .dataframe thead th {\n",
       "        text-align: right;\n",
       "    }\n",
       "</style>\n",
       "<table border=\"1\" class=\"dataframe\">\n",
       "  <thead>\n",
       "    <tr style=\"text-align: right;\">\n",
       "      <th>smoker</th>\n",
       "      <th>no</th>\n",
       "      <th>yes</th>\n",
       "    </tr>\n",
       "    <tr>\n",
       "      <th>sex</th>\n",
       "      <th></th>\n",
       "      <th></th>\n",
       "    </tr>\n",
       "  </thead>\n",
       "  <tbody>\n",
       "    <tr>\n",
       "      <th>female</th>\n",
       "      <td>547</td>\n",
       "      <td>115</td>\n",
       "    </tr>\n",
       "    <tr>\n",
       "      <th>male</th>\n",
       "      <td>516</td>\n",
       "      <td>159</td>\n",
       "    </tr>\n",
       "  </tbody>\n",
       "</table>\n",
       "</div>"
      ],
      "text/plain": [
       "smoker   no  yes\n",
       "sex             \n",
       "female  547  115\n",
       "male    516  159"
      ]
     },
     "execution_count": 17,
     "metadata": {},
     "output_type": "execute_result"
    }
   ],
   "source": [
    "cross = pd.crosstab(df['sex'], df['smoker'])\n",
    "cross"
   ]
  },
  {
   "cell_type": "code",
   "execution_count": 18,
   "id": "52ae1f3d",
   "metadata": {},
   "outputs": [],
   "source": [
    "# Run the Test and Save the Output\n",
    "result = stats.chi2_contingency(cross)\n",
    "chi2, p, deg_free, expected_vals = result"
   ]
  },
  {
   "cell_type": "code",
   "execution_count": 19,
   "id": "595d90ac",
   "metadata": {},
   "outputs": [
    {
     "name": "stdout",
     "output_type": "stream",
     "text": [
      "0.0062765550120107375\n"
     ]
    },
    {
     "data": {
      "text/plain": [
       "True"
      ]
     },
     "execution_count": 19,
     "metadata": {},
     "output_type": "execute_result"
    }
   ],
   "source": [
    "print(p)\n",
    "p<0.05"
   ]
  },
  {
   "cell_type": "markdown",
   "id": "493b2653",
   "metadata": {},
   "source": [
    "- The p-value is less than our significance level, therefore the null hypothesis can be rejected."
   ]
  },
  {
   "cell_type": "markdown",
   "id": "bce5bd50",
   "metadata": {},
   "source": [
    "## Q3. Do different regions have different charges, on average?\n",
    "\n",
    "- Null Hypothesis:\n",
    "\n",
    "> There is no significant difference in charges per region.\n",
    "\n",
    "- Alternative Hypothesis:\n",
    "\n",
    "> Different regions have different charges, on average.\n",
    "\n",
    "- Significance Level (Alpha) is 0.05"
   ]
  },
  {
   "cell_type": "code",
   "execution_count": 20,
   "id": "45df3e43",
   "metadata": {},
   "outputs": [
    {
     "data": {
      "image/png": "[encoded data removed]",
      "text/plain": [
       "<Figure size 640x480 with 1 Axes>"
      ]
     },
     "metadata": {},
     "output_type": "display_data"
    },
    {
     "data": {
      "text/plain": [
       "region\n",
       "northeast    13406.384516\n",
       "northwest    12450.840844\n",
       "southeast    14735.411438\n",
       "southwest    12346.937377\n",
       "Name: charges, dtype: float64"
      ]
     },
     "execution_count": 20,
     "metadata": {},
     "output_type": "execute_result"
    }
   ],
   "source": [
    "# Numerical data with more than 2 categories (regions).\n",
    "# This calls for ANOVA and/or Tukey\n",
    "\n",
    "sns.barplot(data=df, x='region', y='charges')\n",
    "plt.title('Average Charges per Region')\n",
    "plt.xticks(ticks=(0,1,2,3), labels=['Southwest', 'Southeast', 'Northwest', 'Northeast'])\n",
    "plt.xlabel('Region')\n",
    "plt.ylabel('Charges ($USD)')\n",
    "plt.show();\n",
    "df.groupby('region')['charges'].mean()"
   ]
  },
  {
   "cell_type": "code",
   "execution_count": 21,
   "id": "aded6f09",
   "metadata": {},
   "outputs": [],
   "source": [
    "# Creating region filters\n",
    "sw = df.loc[df['region']== \"southwest\"].copy()\n",
    "se = df.loc[df['region']== \"southeast\"].copy()\n",
    "nw = df.loc[df['region']== \"northwest\"].copy()\n",
    "ne = df.loc[df['region']== \"northeast\"].copy()\n",
    "\n",
    "\n",
    "# Defining features of interest\n",
    "sw_charges = sw['charges']\n",
    "se_charges = se['charges']\n",
    "nw_charges = nw['charges']\n",
    "ne_charges = ne['charges']"
   ]
  },
  {
   "cell_type": "markdown",
   "id": "cab269af",
   "metadata": {},
   "source": [
    "### Checking for Outliers"
   ]
  },
  {
   "cell_type": "markdown",
   "id": "5903888f",
   "metadata": {},
   "source": [
    "#### Southwest"
   ]
  },
  {
   "cell_type": "code",
   "execution_count": 22,
   "id": "c17ef406",
   "metadata": {},
   "outputs": [
    {
     "data": {
      "text/plain": [
       "8"
      ]
     },
     "execution_count": 22,
     "metadata": {},
     "output_type": "execute_result"
    }
   ],
   "source": [
    "zscores = stats.zscore(sw_charges)\n",
    "outliers = abs(zscores)>3\n",
    "np.sum(outliers)"
   ]
  },
  {
   "cell_type": "code",
   "execution_count": 23,
   "id": "42d19393",
   "metadata": {},
   "outputs": [],
   "source": [
    "# Removing outliers in southwest charges\n",
    "sw_charges = sw_charges[(np.abs(stats.zscore(sw_charges)) < 3)]"
   ]
  },
  {
   "cell_type": "markdown",
   "id": "77c7fed1",
   "metadata": {},
   "source": [
    "#### Southeast"
   ]
  },
  {
   "cell_type": "code",
   "execution_count": 24,
   "id": "f8d2172b",
   "metadata": {},
   "outputs": [
    {
     "data": {
      "text/plain": [
       "2"
      ]
     },
     "execution_count": 24,
     "metadata": {},
     "output_type": "execute_result"
    }
   ],
   "source": [
    "zscores = stats.zscore(se_charges)\n",
    "outliers = abs(zscores)>3\n",
    "np.sum(outliers)"
   ]
  },
  {
   "cell_type": "code",
   "execution_count": 25,
   "id": "782c2a57",
   "metadata": {},
   "outputs": [],
   "source": [
    "# Removing outliers in southeast charges\n",
    "se_charges = se_charges[(np.abs(stats.zscore(se_charges)) < 3)]"
   ]
  },
  {
   "cell_type": "markdown",
   "id": "2540d1bc",
   "metadata": {},
   "source": [
    "#### Northwest"
   ]
  },
  {
   "cell_type": "code",
   "execution_count": 26,
   "id": "547ac5fa",
   "metadata": {},
   "outputs": [
    {
     "data": {
      "text/plain": [
       "7"
      ]
     },
     "execution_count": 26,
     "metadata": {},
     "output_type": "execute_result"
    }
   ],
   "source": [
    "zscores = stats.zscore(nw_charges)\n",
    "outliers = abs(zscores)>3\n",
    "np.sum(outliers)"
   ]
  },
  {
   "cell_type": "code",
   "execution_count": 27,
   "id": "3161772b",
   "metadata": {},
   "outputs": [],
   "source": [
    "# Removing outliers in northwest charges\n",
    "nw_charges = nw_charges[(np.abs(stats.zscore(nw_charges)) < 3)]"
   ]
  },
  {
   "cell_type": "markdown",
   "id": "c55af722",
   "metadata": {},
   "source": [
    "#### Northeast"
   ]
  },
  {
   "cell_type": "code",
   "execution_count": 28,
   "id": "e59f69b0",
   "metadata": {},
   "outputs": [
    {
     "data": {
      "text/plain": [
       "4"
      ]
     },
     "execution_count": 28,
     "metadata": {},
     "output_type": "execute_result"
    }
   ],
   "source": [
    "zscores = stats.zscore(ne_charges)\n",
    "outliers = abs(zscores)>3\n",
    "np.sum(outliers)"
   ]
  },
  {
   "cell_type": "code",
   "execution_count": 29,
   "id": "9a86ea2a",
   "metadata": {},
   "outputs": [],
   "source": [
    "# Removing outliers in northeast charges\n",
    "ne_charges = ne_charges[(np.abs(stats.zscore(ne_charges)) < 3)]"
   ]
  },
  {
   "cell_type": "markdown",
   "id": "fff1e47f",
   "metadata": {},
   "source": [
    "### Testing Normality"
   ]
  },
  {
   "cell_type": "code",
   "execution_count": 31,
   "id": "ca9fc080",
   "metadata": {
    "scrolled": true
   },
   "outputs": [
    {
     "data": {
      "text/plain": [
       "southeast    364\n",
       "southwest    325\n",
       "northwest    324\n",
       "northeast    324\n",
       "Name: region, dtype: int64"
      ]
     },
     "execution_count": 31,
     "metadata": {},
     "output_type": "execute_result"
    }
   ],
   "source": [
    "df['region'].value_counts()"
   ]
  },
  {
   "cell_type": "markdown",
   "id": "302b315c",
   "metadata": {},
   "source": [
    "- Group sizes are greater than 15, I will forgo Normality Tests"
   ]
  },
  {
   "cell_type": "markdown",
   "id": "925bac14",
   "metadata": {},
   "source": [
    "### Testing Equal Variance"
   ]
  },
  {
   "cell_type": "code",
   "execution_count": 36,
   "id": "90ede938",
   "metadata": {},
   "outputs": [
    {
     "data": {
      "text/plain": [
       "LeveneResult(statistic=9.515214992781328, pvalue=3.218183807441283e-06)"
      ]
     },
     "execution_count": 36,
     "metadata": {},
     "output_type": "execute_result"
    }
   ],
   "source": [
    "stats.levene(ne_charges, nw_charges, se_charges, sw_charges)"
   ]
  },
  {
   "cell_type": "markdown",
   "id": "9cccfca6",
   "metadata": {},
   "source": [
    "- Our p-value is less than 0.05, therefore we do not have equal variances"
   ]
  },
  {
   "cell_type": "markdown",
   "id": "eeb997d2",
   "metadata": {},
   "source": [
    "### Tukey's Test"
   ]
  },
  {
   "cell_type": "code",
   "execution_count": 34,
   "id": "a25c8921",
   "metadata": {},
   "outputs": [],
   "source": [
    "from statsmodels.stats.multicomp import pairwise_tukeyhsd\n",
    "\n",
    "values = df['charges']\n",
    "labels = df['region']"
   ]
  },
  {
   "cell_type": "code",
   "execution_count": 35,
   "id": "b684764c",
   "metadata": {
    "scrolled": true
   },
   "outputs": [
    {
     "data": {
      "text/html": [
       "<table class=\"simpletable\">\n",
       "<caption>Multiple Comparison of Means - Tukey HSD, FWER=0.05</caption>\n",
       "<tr>\n",
       "   <th>group1</th>    <th>group2</th>    <th>meandiff</th>   <th>p-adj</th>    <th>lower</th>     <th>upper</th>   <th>reject</th>\n",
       "</tr>\n",
       "<tr>\n",
       "  <td>northeast</td> <td>northwest</td>  <td>-955.5437</td> <td>0.7457</td> <td>-3397.7353</td> <td>1486.648</td>   <td>False</td>\n",
       "</tr>\n",
       "<tr>\n",
       "  <td>northeast</td> <td>southeast</td>  <td>1329.0269</td> <td>0.4746</td> <td>-1045.1237</td> <td>3703.1776</td>  <td>False</td>\n",
       "</tr>\n",
       "<tr>\n",
       "  <td>northeast</td> <td>southwest</td> <td>-1059.4471</td> <td>0.6793</td> <td>-3499.7595</td> <td>1380.8652</td>  <td>False</td>\n",
       "</tr>\n",
       "<tr>\n",
       "  <td>northwest</td> <td>southeast</td>  <td>2284.5706</td> <td>0.0643</td>   <td>-89.58</td>   <td>4658.7212</td>  <td>False</td>\n",
       "</tr>\n",
       "<tr>\n",
       "  <td>northwest</td> <td>southwest</td>  <td>-103.9035</td> <td>0.9995</td> <td>-2544.2158</td> <td>2336.4088</td>  <td>False</td>\n",
       "</tr>\n",
       "<tr>\n",
       "  <td>southeast</td> <td>southwest</td> <td>-2388.4741</td> <td>0.0477</td> <td>-4760.6915</td> <td>-16.2567</td>   <td>True</td> \n",
       "</tr>\n",
       "</table>"
      ],
      "text/plain": [
       "<class 'statsmodels.iolib.table.SimpleTable'>"
      ]
     },
     "execution_count": 35,
     "metadata": {},
     "output_type": "execute_result"
    }
   ],
   "source": [
    "## perform tukey's multiple comparison test and display the summary\n",
    "tukeys_results = pairwise_tukeyhsd(values,labels)\n",
    "tukeys_results.summary()"
   ]
  },
  {
   "cell_type": "markdown",
   "id": "fb181bfd",
   "metadata": {},
   "source": [
    "### Nonparametric Test"
   ]
  },
  {
   "cell_type": "code",
   "execution_count": 40,
   "id": "5f8c0eb7",
   "metadata": {},
   "outputs": [
    {
     "data": {
      "text/plain": [
       "KruskalResult(statistic=6.770873301852134, pvalue=0.07957070570918574)"
      ]
     },
     "execution_count": 40,
     "metadata": {},
     "output_type": "execute_result"
    }
   ],
   "source": [
    "stats.kruskal(ne_charges, nw_charges, se_charges, sw_charges)"
   ]
  },
  {
   "cell_type": "markdown",
   "id": "029023a2",
   "metadata": {},
   "source": [
    "From the Tukey's test and the nonparametric test's p-value (over 0.05), we fail to reject the hypothesis."
   ]
  },
  {
   "cell_type": "code",
   "execution_count": null,
   "id": "e1e7d4f7",
   "metadata": {},
   "outputs": [],
   "source": []
  }
 ],
 "metadata": {
  "kernelspec": {
   "display_name": "Python (dojo-env)",
   "language": "python",
   "name": "dojo-env"
  },
  "language_info": {
   "codemirror_mode": {
    "name": "ipython",
    "version": 3
   },
   "file_extension": ".py",
   "mimetype": "text/x-python",
   "name": "python",
   "nbconvert_exporter": "python",
   "pygments_lexer": "ipython3",
   "version": "3.9.15"
  },
  "toc": {
   "base_numbering": 1,
   "nav_menu": {},
   "number_sections": true,
   "sideBar": true,
   "skip_h1_title": false,
   "title_cell": "Table of Contents",
   "title_sidebar": "Contents",
   "toc_cell": false,
   "toc_position": {},
   "toc_section_display": true,
   "toc_window_display": false
  }
 },
 "nbformat": 4,
 "nbformat_minor": 5
}
